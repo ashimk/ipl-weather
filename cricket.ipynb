{
 "cells": [
  {
   "cell_type": "code",
   "execution_count": null,
   "metadata": {},
   "outputs": [],
   "source": [
    "import pandas as pd"
   ]
  },
  {
   "cell_type": "code",
   "execution_count": null,
   "metadata": {},
   "outputs": [],
   "source": [
    "matches_data=pd.read_csv(\"matches.csv\")"
   ]
  },
  {
   "cell_type": "markdown",
   "metadata": {},
   "source": [
    "# 1. Which team has won/lost maximum number of matches while chasing?"
   ]
  },
  {
   "cell_type": "code",
   "execution_count": null,
   "metadata": {},
   "outputs": [],
   "source": [
    "winning_teams=matches_data[matches_data['team2']==matches_data['winner']]\n",
    "winner=winning_teams['team2'].value_counts()\n",
    "print(\"Winner Team -> \"+ winner.index[0])\n",
    "losing_teams2=matches_data[matches_data['team1']==matches_data['winner']]\n",
    "loser=losing_teams2['team2'].value_counts()\n",
    "print(\"Loser Team -> \"+ loser.index[0])"
   ]
  },
  {
   "cell_type": "markdown",
   "metadata": {},
   "source": [
    "# 2. Which toss decision is best for each ground?"
   ]
  },
  {
   "cell_type": "code",
   "execution_count": null,
   "metadata": {},
   "outputs": [],
   "source": [
    "team1=matches_data[matches_data['team1']==matches_data['winner']]\n",
    "team2=matches_data[matches_data['team2']==matches_data['winner']]\n",
    "grounds=team1['venue'].value_counts().index\n",
    "for i in grounds:\n",
    "    if(team1['venue'].value_counts()[i]>team2['venue'].value_counts()[i]):\n",
    "        print(i+'-> Batting')\n",
    "    else :\n",
    "        print(i+'-> Fielding')"
   ]
  },
  {
   "cell_type": "markdown",
   "metadata": {},
   "source": [
    "# 3. Which player has won maximum number of MoM awards while chasing?"
   ]
  },
  {
   "cell_type": "code",
   "execution_count": null,
   "metadata": {},
   "outputs": [],
   "source": [
    "manOfTheMatch=matches_data[matches_data['team2']==matches_data['winner']]['player_of_match'].value_counts().index[0]\n",
    "print(manOfTheMatch)"
   ]
  },
  {
   "cell_type": "markdown",
   "metadata": {},
   "source": [
    "# 4. Which batsman has played maximum number of dot balls?"
   ]
  },
  {
   "cell_type": "code",
   "execution_count": null,
   "metadata": {},
   "outputs": [],
   "source": [
    "deliveries_data=pd.read_csv(\"deliveries.csv\")\n",
    "player=deliveries_data.query(\"total_runs==0\")['batsman'].value_counts().index[0]\n",
    "print(player)"
   ]
  },
  {
   "cell_type": "markdown",
   "metadata": {},
   "source": [
    "# 5. Which batsmen came to crease but never got a chance to face a ball?"
   ]
  },
  {
   "cell_type": "code",
   "execution_count": null,
   "metadata": {},
   "outputs": [],
   "source": [
    "group = deliveries_data[['batsman','non_striker']]\n",
    "df1 = group[\"batsman\"].value_counts()\n",
    "batsman_group= df1.index\n",
    "df2 = group[\"non_striker\"].value_counts()\n",
    "non_striker_group = df2.index\n",
    "l = []\n",
    "for j in non_striker_group:\n",
    "    if not j in batsman_group:\n",
    "        l.append(j)\n",
    "df = pd.DataFrame({'non_striker':l})\n",
    "df = df[\"non_striker\"].value_counts()\n",
    "df"
   ]
  },
  {
   "cell_type": "markdown",
   "metadata": {},
   "source": [
    "# 6. Which bowler has hit for maximum number of 1s/2s/3s/4s/6s?"
   ]
  },
  {
   "cell_type": "code",
   "execution_count": null,
   "metadata": {},
   "outputs": [],
   "source": [
    "one=deliveries_data.query(\"total_runs==1\")['bowler'].value_counts().index[0]\n",
    "print(one)"
   ]
  },
  {
   "cell_type": "code",
   "execution_count": null,
   "metadata": {},
   "outputs": [],
   "source": [
    "two=deliveries_data.query(\"total_runs==2\")['bowler'].value_counts().index[0]\n",
    "print(two)"
   ]
  },
  {
   "cell_type": "code",
   "execution_count": null,
   "metadata": {},
   "outputs": [],
   "source": [
    "three=deliveries_data.query(\"total_runs==3\")['bowler'].value_counts().index[0]\n",
    "print(three)"
   ]
  },
  {
   "cell_type": "code",
   "execution_count": null,
   "metadata": {},
   "outputs": [],
   "source": [
    "four=deliveries_data.query(\"total_runs==4\")['bowler'].value_counts().index[0]\n",
    "print(four)"
   ]
  },
  {
   "cell_type": "code",
   "execution_count": null,
   "metadata": {},
   "outputs": [],
   "source": [
    "six=deliveries_data.query(\"total_runs==6\")['bowler'].value_counts().index[0]\n",
    "print(six)"
   ]
  },
  {
   "cell_type": "markdown",
   "metadata": {},
   "source": [
    "# 7. Which batsman got stumped out maximum number of times?"
   ]
  },
  {
   "cell_type": "code",
   "execution_count": null,
   "metadata": {},
   "outputs": [],
   "source": [
    "stumped=deliveries_data.query(\"dismissal_kind=='stumped'\")['batsman'].value_counts().index[0]\n",
    "print(stumped)"
   ]
  },
  {
   "cell_type": "markdown",
   "metadata": {},
   "source": [
    "# 8.  Which non-striker has been part of maximum number of runouts?"
   ]
  },
  {
   "cell_type": "code",
   "execution_count": null,
   "metadata": {},
   "outputs": [],
   "source": [
    "runOutPlayers=deliveries_data.query(\"non_striker==player_dismissed\")['non_striker'].value_counts()\n",
    "i=0\n",
    "while True:\n",
    "    if(runOutPlayers.values[i]==runOutPlayers.values[0]):\n",
    "        print(runOutPlayers.index[i])\n",
    "        i+=1\n",
    "    else: \n",
    "        break"
   ]
  },
  {
   "cell_type": "markdown",
   "metadata": {},
   "source": [
    "# 9. Make at least 5 more new queries and find answers to them."
   ]
  },
  {
   "cell_type": "markdown",
   "metadata": {},
   "source": [
    "# a. In total, how many super overs were played ?"
   ]
  },
  {
   "cell_type": "code",
   "execution_count": null,
   "metadata": {},
   "outputs": [],
   "source": [
    "super_over=deliveries_data.query(\"is_super_over==1\")['is_super_over'].value_counts().values[0]\n",
    "print(super_over)"
   ]
  },
  {
   "cell_type": "markdown",
   "metadata": {},
   "source": [
    "# b. Which team has won by the highest margin?"
   ]
  },
  {
   "cell_type": "code",
   "execution_count": null,
   "metadata": {},
   "outputs": [],
   "source": [
    "maxMargin=matches_data[matches_data['win_by_runs']==max(matches_data['win_by_runs'])]['winner'].values[0]\n",
    "print(maxMargin,\"has won by the highest margin of\",max(matches_data['win_by_runs']))"
   ]
  },
  {
   "cell_type": "markdown",
   "metadata": {},
   "source": [
    "# c. Which Batsman has hit the maximum number of Sixes?"
   ]
  },
  {
   "cell_type": "code",
   "execution_count": null,
   "metadata": {},
   "outputs": [],
   "source": [
    "player=deliveries_data.query('batsman_runs==6')['batsman'].value_counts().index[0]\n",
    "print(player)"
   ]
  },
  {
   "cell_type": "markdown",
   "metadata": {},
   "source": [
    "# d. Which Batman has hit the Maximum number of Fours?"
   ]
  },
  {
   "cell_type": "code",
   "execution_count": null,
   "metadata": {},
   "outputs": [],
   "source": [
    "player=deliveries_data.query('batsman_runs==4')['batsman'].value_counts().index[0]\n",
    "print(player)"
   ]
  },
  {
   "cell_type": "markdown",
   "metadata": {},
   "source": [
    "# e. Which team has won maximum number of times?"
   ]
  },
  {
   "cell_type": "code",
   "execution_count": null,
   "metadata": {},
   "outputs": [],
   "source": [
    "winner=matches_data['winner'].value_counts().index[0]\n",
    "print(winner)"
   ]
  }
 ],
 "metadata": {
  "kernelspec": {
   "display_name": "Python 3",
   "language": "python",
   "name": "python3"
  },
  "language_info": {
   "codemirror_mode": {
    "name": "ipython",
    "version": 3
   },
   "file_extension": ".py",
   "mimetype": "text/x-python",
   "name": "python",
   "nbconvert_exporter": "python",
   "pygments_lexer": "ipython3",
   "version": "3.7.1"
  }
 },
 "nbformat": 4,
 "nbformat_minor": 2
}
